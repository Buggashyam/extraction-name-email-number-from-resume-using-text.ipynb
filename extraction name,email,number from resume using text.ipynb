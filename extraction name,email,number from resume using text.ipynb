{
 "cells": [
  {
   "cell_type": "code",
   "execution_count": 2,
   "id": "ddf619dc-846f-452b-a75d-d2ef0abb4bfb",
   "metadata": {},
   "outputs": [
    {
     "name": "stdout",
     "output_type": "stream",
     "text": [
      "                                         resume_text   Name  \\\n",
      "0  JaswAnth\\nEmail: johndoe@gmail.com\\nPhone: +1-...   Jasw   \n",
      "1  chandrahas reddy sagli\\nEmail: janesmith@email...  Email   \n",
      "\n",
      "                Emails   PhoneNumbers  \n",
      "0    johndoe@gmail.com  +1-9876543210  \n",
      "1  janesmith@email.com  123) 456-7890  \n"
     ]
    }
   ],
   "source": [
    "import re\n",
    "import pandas as pd\n",
    "\n",
    "# Sample dataset (Replace this with actual resume text data)\n",
    "data = {\n",
    "    \"resume_text\": [\n",
    "        \"JaswAnth\\nEmail: johndoe@gmail.com\\nPhone: +1-9876543210\\nSoftware Engineer at XYZ\",\n",
    "        \"chandrahas reddy sagli\\nEmail: janesmith@email.com\\nPhone: (123) 456-7890\\nData Scientist at ABC\"\n",
    "    ]\n",
    "}\n",
    "\n",
    "# Convert to DataFrame\n",
    "df = pd.DataFrame(data)\n",
    "\n",
    "# Function to extract emails\n",
    "def extract_emails(text):\n",
    "    email_pattern = r\"[a-zA-Z0-9+_.-]+@[a-zA-Z0-9.-]+\\.[a-zA-Z]{2,}\"\n",
    "    match = re.search(email_pattern, text)\n",
    "    return match.group(0) if match else \"Not Found\"\n",
    "\n",
    "# Function to extract phone numbers\n",
    "def extract_phone_numbers(text):\n",
    "    phone_pattern = r\"\\+?\\d{1,4}?[ -]?\\(?\\d{2,4}\\)?[ -]?\\d{3,4}[ -]?\\d{4}\"\n",
    "    match = re.search(phone_pattern, text)\n",
    "    return match.group(0) if match else \"Not Found\"\n",
    "\n",
    "# Function to extract name using regex\n",
    "def extract_name_regex(text):\n",
    "    pattern = r\"([A-Z][a-z]+(?:\\s[A-Z][a-z]+)?)\"\n",
    "    matches = re.findall(pattern, text)\n",
    "    return matches[0] if matches else \"Not Found\"\n",
    "\n",
    "# Apply functions to DataFrame\n",
    "df['Name'] = df['resume_text'].apply(extract_name_regex)\n",
    "df['Emails'] = df['resume_text'].apply(extract_emails)\n",
    "df['PhoneNumbers'] = df['resume_text'].apply(extract_phone_numbers)\n",
    "\n",
    "# Display results\n",
    "print(df)\n"
   ]
  },
  {
   "cell_type": "code",
   "execution_count": null,
   "id": "4196714d-11e9-48b5-8087-f009f1793dc9",
   "metadata": {},
   "outputs": [],
   "source": []
  }
 ],
 "metadata": {
  "kernelspec": {
   "display_name": "Python 3 (ipykernel)",
   "language": "python",
   "name": "python3"
  },
  "language_info": {
   "codemirror_mode": {
    "name": "ipython",
    "version": 3
   },
   "file_extension": ".py",
   "mimetype": "text/x-python",
   "name": "python",
   "nbconvert_exporter": "python",
   "pygments_lexer": "ipython3",
   "version": "3.12.7"
  }
 },
 "nbformat": 4,
 "nbformat_minor": 5
}
